{
 "cells": [
  {
   "cell_type": "markdown",
   "metadata": {},
   "source": [
    "# pandas exploration\n",
    "In this assignment you will select a data set and do some munging and analysis of it using `pandas`, Jupyter Notebooks, and associated Python-centric data science tools."
   ]
  },
  {
   "cell_type": "markdown",
   "metadata": {},
   "source": [
    "Import the core data science libraries:"
   ]
  },
  {
   "cell_type": "code",
   "execution_count": 1,
   "metadata": {},
   "outputs": [
    {
     "name": "stderr",
     "output_type": "stream",
     "text": [
      "/anaconda3/lib/python3.7/site-packages/pandas/compat/_optional.py:138: UserWarning: Pandas requires version '2.7.0' or newer of 'numexpr' (version '2.6.9' currently installed).\n",
      "  warnings.warn(msg, UserWarning)\n"
     ]
    }
   ],
   "source": [
    "%matplotlib inline\n",
    "import matplotlib.pyplot as plt\n",
    "import numpy as np\n",
    "import pandas as pd"
   ]
  },
  {
   "cell_type": "markdown",
   "metadata": {},
   "source": [
    "## Import the raw data\n",
    "In this section, you will import the raw data into a `pandas` DataFrame."
   ]
  },
  {
   "cell_type": "code",
   "execution_count": 2,
   "metadata": {},
   "outputs": [],
   "source": [
    "# place your code into this Code cell\n",
    "data = pd.read_csv(\"data/NYPD_Shooting_Incident_Data__Historic_.csv\")"
   ]
  },
  {
   "cell_type": "markdown",
   "metadata": {},
   "source": [
    "## Data inspection\n",
    "In this section, you will show enough of your data for a viewer to get a general sense of how the data is structured and any unique features of it.  Complete each of the indicated tasks in a Code cell, making sure to include a Markdown cell above each Code cell that explains what is being shown by the code.  \n",
    "- Show 5 rows, selected at random, from the data set.\n",
    "- Show each of the column names and their data types.\n",
    "- Show any unique features of your chosen data set.\n",
    "\n",
    "Feel free to add as many additional cells as you need to help explain the raw data."
   ]
  },
  {
   "cell_type": "markdown",
   "metadata": {},
   "source": [
    "<p style=\"color:#009\">First, randomly display 5 rows in the raw dataset:</p>"
   ]
  },
  {
   "cell_type": "code",
   "execution_count": 3,
   "metadata": {},
   "outputs": [
    {
     "data": {
      "text/html": [
       "<div>\n",
       "<style scoped>\n",
       "    .dataframe tbody tr th:only-of-type {\n",
       "        vertical-align: middle;\n",
       "    }\n",
       "\n",
       "    .dataframe tbody tr th {\n",
       "        vertical-align: top;\n",
       "    }\n",
       "\n",
       "    .dataframe thead th {\n",
       "        text-align: right;\n",
       "    }\n",
       "</style>\n",
       "<table border=\"1\" class=\"dataframe\">\n",
       "  <thead>\n",
       "    <tr style=\"text-align: right;\">\n",
       "      <th></th>\n",
       "      <th>INCIDENT_KEY</th>\n",
       "      <th>OCCUR_DATE</th>\n",
       "      <th>OCCUR_TIME</th>\n",
       "      <th>BORO</th>\n",
       "      <th>PRECINCT</th>\n",
       "      <th>JURISDICTION_CODE</th>\n",
       "      <th>LOCATION_DESC</th>\n",
       "      <th>STATISTICAL_MURDER_FLAG</th>\n",
       "      <th>PERP_AGE_GROUP</th>\n",
       "      <th>PERP_SEX</th>\n",
       "      <th>PERP_RACE</th>\n",
       "      <th>VIC_AGE_GROUP</th>\n",
       "      <th>VIC_SEX</th>\n",
       "      <th>VIC_RACE</th>\n",
       "      <th>X_COORD_CD</th>\n",
       "      <th>Y_COORD_CD</th>\n",
       "      <th>Latitude</th>\n",
       "      <th>Longitude</th>\n",
       "      <th>Lon_Lat</th>\n",
       "    </tr>\n",
       "  </thead>\n",
       "  <tbody>\n",
       "    <tr>\n",
       "      <th>413</th>\n",
       "      <td>142902648</td>\n",
       "      <td>05/14/2015</td>\n",
       "      <td>14:23:00</td>\n",
       "      <td>BRONX</td>\n",
       "      <td>46</td>\n",
       "      <td>0.0</td>\n",
       "      <td>NaN</td>\n",
       "      <td>False</td>\n",
       "      <td>18-24</td>\n",
       "      <td>M</td>\n",
       "      <td>WHITE HISPANIC</td>\n",
       "      <td>25-44</td>\n",
       "      <td>F</td>\n",
       "      <td>WHITE HISPANIC</td>\n",
       "      <td>1.009430e+06</td>\n",
       "      <td>250363.484375</td>\n",
       "      <td>40.853837</td>\n",
       "      <td>-73.908982</td>\n",
       "      <td>POINT (-73.90898205499997 40.85383718800006)</td>\n",
       "    </tr>\n",
       "    <tr>\n",
       "      <th>22173</th>\n",
       "      <td>91727927</td>\n",
       "      <td>07/20/2013</td>\n",
       "      <td>14:10:00</td>\n",
       "      <td>BROOKLYN</td>\n",
       "      <td>83</td>\n",
       "      <td>0.0</td>\n",
       "      <td>NaN</td>\n",
       "      <td>False</td>\n",
       "      <td>18-24</td>\n",
       "      <td>M</td>\n",
       "      <td>BLACK</td>\n",
       "      <td>45-64</td>\n",
       "      <td>M</td>\n",
       "      <td>WHITE HISPANIC</td>\n",
       "      <td>1.007032e+06</td>\n",
       "      <td>193357.765625</td>\n",
       "      <td>40.697378</td>\n",
       "      <td>-73.917843</td>\n",
       "      <td>POINT (-73.91784290999993 40.69737806400008)</td>\n",
       "    </tr>\n",
       "    <tr>\n",
       "      <th>20660</th>\n",
       "      <td>160509029</td>\n",
       "      <td>01/21/2017</td>\n",
       "      <td>21:35:00</td>\n",
       "      <td>BROOKLYN</td>\n",
       "      <td>67</td>\n",
       "      <td>0.0</td>\n",
       "      <td>MULTI DWELL - APT BUILD</td>\n",
       "      <td>False</td>\n",
       "      <td>NaN</td>\n",
       "      <td>NaN</td>\n",
       "      <td>NaN</td>\n",
       "      <td>&lt;18</td>\n",
       "      <td>M</td>\n",
       "      <td>BLACK</td>\n",
       "      <td>9.990096e+05</td>\n",
       "      <td>171975.734375</td>\n",
       "      <td>40.638706</td>\n",
       "      <td>-73.946820</td>\n",
       "      <td>POINT (-73.94682044299998 40.63870617100008)</td>\n",
       "    </tr>\n",
       "    <tr>\n",
       "      <th>18746</th>\n",
       "      <td>203211776</td>\n",
       "      <td>10/03/2019</td>\n",
       "      <td>00:38:00</td>\n",
       "      <td>MANHATTAN</td>\n",
       "      <td>33</td>\n",
       "      <td>0.0</td>\n",
       "      <td>NaN</td>\n",
       "      <td>True</td>\n",
       "      <td>NaN</td>\n",
       "      <td>NaN</td>\n",
       "      <td>NaN</td>\n",
       "      <td>25-44</td>\n",
       "      <td>M</td>\n",
       "      <td>WHITE HISPANIC</td>\n",
       "      <td>1.001505e+06</td>\n",
       "      <td>245382.500000</td>\n",
       "      <td>40.840185</td>\n",
       "      <td>-73.937640</td>\n",
       "      <td>POINT (-73.93764029999994 40.84018489700003)</td>\n",
       "    </tr>\n",
       "    <tr>\n",
       "      <th>6807</th>\n",
       "      <td>205280615</td>\n",
       "      <td>11/17/2019</td>\n",
       "      <td>21:12:00</td>\n",
       "      <td>BRONX</td>\n",
       "      <td>43</td>\n",
       "      <td>2.0</td>\n",
       "      <td>MULTI DWELL - PUBLIC HOUS</td>\n",
       "      <td>False</td>\n",
       "      <td>25-44</td>\n",
       "      <td>M</td>\n",
       "      <td>BLACK</td>\n",
       "      <td>18-24</td>\n",
       "      <td>M</td>\n",
       "      <td>BLACK</td>\n",
       "      <td>1.020891e+06</td>\n",
       "      <td>236726.390625</td>\n",
       "      <td>40.816367</td>\n",
       "      <td>-73.867626</td>\n",
       "      <td>POINT (-73.86762585699995 40.81636721700005)</td>\n",
       "    </tr>\n",
       "  </tbody>\n",
       "</table>\n",
       "</div>"
      ],
      "text/plain": [
       "       INCIDENT_KEY  OCCUR_DATE OCCUR_TIME       BORO  PRECINCT  \\\n",
       "413       142902648  05/14/2015   14:23:00      BRONX        46   \n",
       "22173      91727927  07/20/2013   14:10:00   BROOKLYN        83   \n",
       "20660     160509029  01/21/2017   21:35:00   BROOKLYN        67   \n",
       "18746     203211776  10/03/2019   00:38:00  MANHATTAN        33   \n",
       "6807      205280615  11/17/2019   21:12:00      BRONX        43   \n",
       "\n",
       "       JURISDICTION_CODE              LOCATION_DESC  STATISTICAL_MURDER_FLAG  \\\n",
       "413                  0.0                        NaN                    False   \n",
       "22173                0.0                        NaN                    False   \n",
       "20660                0.0    MULTI DWELL - APT BUILD                    False   \n",
       "18746                0.0                        NaN                     True   \n",
       "6807                 2.0  MULTI DWELL - PUBLIC HOUS                    False   \n",
       "\n",
       "      PERP_AGE_GROUP PERP_SEX       PERP_RACE VIC_AGE_GROUP VIC_SEX  \\\n",
       "413            18-24        M  WHITE HISPANIC         25-44       F   \n",
       "22173          18-24        M           BLACK         45-64       M   \n",
       "20660            NaN      NaN             NaN           <18       M   \n",
       "18746            NaN      NaN             NaN         25-44       M   \n",
       "6807           25-44        M           BLACK         18-24       M   \n",
       "\n",
       "             VIC_RACE    X_COORD_CD     Y_COORD_CD   Latitude  Longitude  \\\n",
       "413    WHITE HISPANIC  1.009430e+06  250363.484375  40.853837 -73.908982   \n",
       "22173  WHITE HISPANIC  1.007032e+06  193357.765625  40.697378 -73.917843   \n",
       "20660           BLACK  9.990096e+05  171975.734375  40.638706 -73.946820   \n",
       "18746  WHITE HISPANIC  1.001505e+06  245382.500000  40.840185 -73.937640   \n",
       "6807            BLACK  1.020891e+06  236726.390625  40.816367 -73.867626   \n",
       "\n",
       "                                            Lon_Lat  \n",
       "413    POINT (-73.90898205499997 40.85383718800006)  \n",
       "22173  POINT (-73.91784290999993 40.69737806400008)  \n",
       "20660  POINT (-73.94682044299998 40.63870617100008)  \n",
       "18746  POINT (-73.93764029999994 40.84018489700003)  \n",
       "6807   POINT (-73.86762585699995 40.81636721700005)  "
      ]
     },
     "execution_count": 3,
     "metadata": {},
     "output_type": "execute_result"
    }
   ],
   "source": [
    "data.sample(5) #random display of 5 rows of data"
   ]
  },
  {
   "cell_type": "markdown",
   "metadata": {},
   "source": [
    "<p style=\"color:#009\">Below the column names and their corresponding types are shown. First get the column names by `df.dolumn()` and then find the data type of values in the a row with all non-NAN values(closest to the definition of the contents of each column of this dataset):</p>"
   ]
  },
  {
   "cell_type": "code",
   "execution_count": 4,
   "metadata": {},
   "outputs": [
    {
     "name": "stdout",
     "output_type": "stream",
     "text": [
      "             INCIDENT_KEY: int64\n",
      "               OCCUR_DATE: str\n",
      "               OCCUR_TIME: str\n",
      "                     BORO: str\n",
      "                 PRECINCT: int64\n",
      "        JURISDICTION_CODE: float64\n",
      "            LOCATION_DESC: str\n",
      "  STATISTICAL_MURDER_FLAG: bool_\n",
      "           PERP_AGE_GROUP: str\n",
      "                 PERP_SEX: str\n",
      "                PERP_RACE: str\n",
      "            VIC_AGE_GROUP: str\n",
      "                  VIC_SEX: str\n",
      "                 VIC_RACE: str\n",
      "               X_COORD_CD: float64\n",
      "               Y_COORD_CD: float64\n",
      "                 Latitude: float64\n",
      "                Longitude: float64\n",
      "                  Lon_Lat: str\n"
     ]
    }
   ],
   "source": [
    "for col_name in list(data.columns):\n",
    "    print(\"%25s: %s\"%(col_name,type(data[col_name][22311]).__name__))"
   ]
  },
  {
   "cell_type": "markdown",
   "metadata": {},
   "source": [
    "<p style=\"color:#009\">The raw dataset contains 23.6k shooting incednet records, and 19 columns/fields indicating relavant information.Definition was given as below. To refer to the original dataset, click <a href=\"https://data.cityofnewyork.us/Public-Safety/NYPD-Shooting-Incident-Data-Historic-/833y-fsy8\">here</a>.</p>"
   ]
  },
  {
   "cell_type": "markdown",
   "metadata": {},
   "source": [
    "|Column Name            |Description                                                                     |Type                                                                                              |\n",
    "|-----------------------|--------------------------------------------------------------------------------|----------|\n",
    "|INCIDENT_KEY           |Randomly generated persistent ID for each arrest                                |Plain Text                                                                                        |\n",
    "|OCCUR_DATE             |Exact date of the shooting incident                                             |Date & Time                                                                                      |\n",
    "|OCCUR_TIME             |Exact time of the shooting incident                                             |Plain Text                                                                                        |\n",
    "|BORO                   |Borough where the shooting incident occurred                                    |Plain Text                                                                                        |\n",
    "|PRECINCT               |Precinct where the shooting incident occurred                                   |Number                                                                                            |\n",
    "|JURISDICTION_CODE      |Jurisdiction where the shooting incident occurred. Jurisdiction codes 0(Patrol) 1(Transit) and 2(Housing) represent NYPD whilst codes 3 and more represent non NYPD jurisdictions|Number                                                                                            |\n",
    "|LOCATION_DESC          |Location of the shooting incident                                               |Plain Text                                                                                        |\n",
    "|STATISTICAL_MURDER_FLAG|Shooting resulted in the victim’s death which would be counted as a murder      |Checkbox                                                                                          |\n",
    "|PERP_AGE_GROUP         |Perpetrator’s age within a category                                             |Plain Text                                                                                        |\n",
    "|PERP_SEX               |Perpetrator’s sex description                                                   |Plain Text                                                                                        |\n",
    "|PERP_RACE              |Perpetrator’s race description                                                  |Plain Text                                                                                        |\n",
    "|VIC_AGE_GROUP          |Victim’s age within a category                                                  |Plain Text                                                                                        |\n",
    "|VIC_SEX                |Victim’s sex description                                                        |Plain Text                                                                                        |\n",
    "|VIC_RACE               |Victim’s race description                                                       |Plain Text                                                                                        |\n",
    "|X_COORD_CD             | Midblock X-coordinate for New York State Plane Coordinate System Long Island Zone NAD 83 units feet (FIPS 3104)|Plain Text                                                                                        |\n",
    "|Y_COORD_CD             | Midblock Y-coordinate for New York State Plane Coordinate System Long Island Zone NAD 83 units feet (FIPS 3104)|Plain Text                                                                                        |\n",
    "|Latitude               |Latitude coordinate for Global Coordinate System WGS 1984 decimal degrees (EPSG 4326)|Number                                                                                            |\n",
    "|Longitude              |Longitude coordinate for Global Coordinate System WGS 1984 decimal degrees (EPSG 4326)|Number                                                                                            |\n",
    "|Lon_Lat                |Longitude and Latitude Coordinates for mapping                                  |Point                                                                                             |"
   ]
  },
  {
   "cell_type": "markdown",
   "metadata": {},
   "source": [
    "<p style=\"color:#009\">The dataset is interesting because it records not only the ages and genders of perpetrators and victims, but also the exact locations of the crimes' occurences besides the clarification of boroughs. Also, date and time of the crime are well recorded, so that I could do analysis according to the occurence time. This data gives user opportunities to analyze crime relevant to age, gender, location, and even relate it to the historical background of a certain time period to see the change in crime control, if possible.</p>"
   ]
  },
  {
   "cell_type": "markdown",
   "metadata": {},
   "source": [
    "## Data munging\n",
    "Place your **data munging** code and documentation within this section.  \n",
    "- Keep each of your Code cells short and focused on a single task.  \n",
    "- Include a Markdown cell above each code cell that describes what task the code within the code cell is performing.\n",
    "- Make as many code cells as you need to complete the munging - a few have been created for you to start with.\n",
    "- Display 5 sample rows of the modified data after each transformation so a viewer can see how the data has changed.\n",
    "\n",
    "**Note**: If you believe that your data set does not require any munging, please explain in detail.  Create Markdown cells that explain your thinking and create Code cells that show any specific structures of the data you refer to in your explanation."
   ]
  },
  {
   "cell_type": "markdown",
   "metadata": {},
   "source": [
    "<p style=\"color:#009\">In this step, I removed all the rows with NaN,'UNKNOWN' and 'NONE' in them. This is because the very commonly in the original data, values such as Perpetrator’s age within a category are missing, but they might be crucial in future data anaytics, such as relating the crime rate with the peretrator's age.Also, these indicator strings may be bothering especially in columns with numbers only. There is no further need to sort the remaining records in chronical order as they are already being in that pattern. </p>"
   ]
  },
  {
   "cell_type": "code",
   "execution_count": 5,
   "metadata": {},
   "outputs": [
    {
     "name": "stdout",
     "output_type": "stream",
     "text": [
      "First Five rows before munging:[shape:(23585, 19)]\n"
     ]
    },
    {
     "data": {
      "text/html": [
       "<div>\n",
       "<style scoped>\n",
       "    .dataframe tbody tr th:only-of-type {\n",
       "        vertical-align: middle;\n",
       "    }\n",
       "\n",
       "    .dataframe tbody tr th {\n",
       "        vertical-align: top;\n",
       "    }\n",
       "\n",
       "    .dataframe thead th {\n",
       "        text-align: right;\n",
       "    }\n",
       "</style>\n",
       "<table border=\"1\" class=\"dataframe\">\n",
       "  <thead>\n",
       "    <tr style=\"text-align: right;\">\n",
       "      <th></th>\n",
       "      <th>INCIDENT_KEY</th>\n",
       "      <th>OCCUR_DATE</th>\n",
       "      <th>OCCUR_TIME</th>\n",
       "      <th>BORO</th>\n",
       "      <th>PRECINCT</th>\n",
       "      <th>JURISDICTION_CODE</th>\n",
       "      <th>LOCATION_DESC</th>\n",
       "      <th>STATISTICAL_MURDER_FLAG</th>\n",
       "      <th>PERP_AGE_GROUP</th>\n",
       "      <th>PERP_SEX</th>\n",
       "      <th>PERP_RACE</th>\n",
       "      <th>VIC_AGE_GROUP</th>\n",
       "      <th>VIC_SEX</th>\n",
       "      <th>VIC_RACE</th>\n",
       "      <th>X_COORD_CD</th>\n",
       "      <th>Y_COORD_CD</th>\n",
       "      <th>Latitude</th>\n",
       "      <th>Longitude</th>\n",
       "      <th>Lon_Lat</th>\n",
       "    </tr>\n",
       "  </thead>\n",
       "  <tbody>\n",
       "    <tr>\n",
       "      <th>0</th>\n",
       "      <td>24050482</td>\n",
       "      <td>08/27/2006</td>\n",
       "      <td>05:35:00</td>\n",
       "      <td>BRONX</td>\n",
       "      <td>52</td>\n",
       "      <td>0.0</td>\n",
       "      <td>NaN</td>\n",
       "      <td>True</td>\n",
       "      <td>NaN</td>\n",
       "      <td>NaN</td>\n",
       "      <td>NaN</td>\n",
       "      <td>25-44</td>\n",
       "      <td>F</td>\n",
       "      <td>BLACK HISPANIC</td>\n",
       "      <td>1.017542e+06</td>\n",
       "      <td>255918.875000</td>\n",
       "      <td>40.869058</td>\n",
       "      <td>-73.879632</td>\n",
       "      <td>POINT (-73.87963173099996 40.86905819000003)</td>\n",
       "    </tr>\n",
       "    <tr>\n",
       "      <th>1</th>\n",
       "      <td>77673979</td>\n",
       "      <td>03/11/2011</td>\n",
       "      <td>12:03:00</td>\n",
       "      <td>QUEENS</td>\n",
       "      <td>106</td>\n",
       "      <td>0.0</td>\n",
       "      <td>NaN</td>\n",
       "      <td>False</td>\n",
       "      <td>NaN</td>\n",
       "      <td>NaN</td>\n",
       "      <td>NaN</td>\n",
       "      <td>65+</td>\n",
       "      <td>M</td>\n",
       "      <td>WHITE</td>\n",
       "      <td>1.027543e+06</td>\n",
       "      <td>186095.000000</td>\n",
       "      <td>40.677367</td>\n",
       "      <td>-73.843920</td>\n",
       "      <td>POINT (-73.84392019199998 40.677366895000034)</td>\n",
       "    </tr>\n",
       "    <tr>\n",
       "      <th>2</th>\n",
       "      <td>203350417</td>\n",
       "      <td>10/06/2019</td>\n",
       "      <td>01:09:00</td>\n",
       "      <td>BROOKLYN</td>\n",
       "      <td>77</td>\n",
       "      <td>0.0</td>\n",
       "      <td>NaN</td>\n",
       "      <td>False</td>\n",
       "      <td>NaN</td>\n",
       "      <td>NaN</td>\n",
       "      <td>NaN</td>\n",
       "      <td>18-24</td>\n",
       "      <td>F</td>\n",
       "      <td>BLACK</td>\n",
       "      <td>9.953250e+05</td>\n",
       "      <td>185155.000000</td>\n",
       "      <td>40.674886</td>\n",
       "      <td>-73.960075</td>\n",
       "      <td>POINT (-73.96007501899999 40.674885741000026)</td>\n",
       "    </tr>\n",
       "    <tr>\n",
       "      <th>3</th>\n",
       "      <td>80584527</td>\n",
       "      <td>09/04/2011</td>\n",
       "      <td>03:35:00</td>\n",
       "      <td>BRONX</td>\n",
       "      <td>40</td>\n",
       "      <td>0.0</td>\n",
       "      <td>NaN</td>\n",
       "      <td>False</td>\n",
       "      <td>NaN</td>\n",
       "      <td>NaN</td>\n",
       "      <td>NaN</td>\n",
       "      <td>&lt;18</td>\n",
       "      <td>M</td>\n",
       "      <td>BLACK</td>\n",
       "      <td>1.007453e+06</td>\n",
       "      <td>233952.000000</td>\n",
       "      <td>40.808798</td>\n",
       "      <td>-73.916184</td>\n",
       "      <td>POINT (-73.91618413199996 40.80879780500004)</td>\n",
       "    </tr>\n",
       "    <tr>\n",
       "      <th>4</th>\n",
       "      <td>90843766</td>\n",
       "      <td>05/27/2013</td>\n",
       "      <td>21:16:00</td>\n",
       "      <td>QUEENS</td>\n",
       "      <td>100</td>\n",
       "      <td>0.0</td>\n",
       "      <td>NaN</td>\n",
       "      <td>False</td>\n",
       "      <td>NaN</td>\n",
       "      <td>NaN</td>\n",
       "      <td>NaN</td>\n",
       "      <td>18-24</td>\n",
       "      <td>M</td>\n",
       "      <td>BLACK</td>\n",
       "      <td>1.041267e+06</td>\n",
       "      <td>157133.515625</td>\n",
       "      <td>40.597796</td>\n",
       "      <td>-73.794686</td>\n",
       "      <td>POINT (-73.79468553799995 40.597796249000055)</td>\n",
       "    </tr>\n",
       "  </tbody>\n",
       "</table>\n",
       "</div>"
      ],
      "text/plain": [
       "   INCIDENT_KEY  OCCUR_DATE OCCUR_TIME      BORO  PRECINCT  JURISDICTION_CODE  \\\n",
       "0      24050482  08/27/2006   05:35:00     BRONX        52                0.0   \n",
       "1      77673979  03/11/2011   12:03:00    QUEENS       106                0.0   \n",
       "2     203350417  10/06/2019   01:09:00  BROOKLYN        77                0.0   \n",
       "3      80584527  09/04/2011   03:35:00     BRONX        40                0.0   \n",
       "4      90843766  05/27/2013   21:16:00    QUEENS       100                0.0   \n",
       "\n",
       "  LOCATION_DESC  STATISTICAL_MURDER_FLAG PERP_AGE_GROUP PERP_SEX PERP_RACE  \\\n",
       "0           NaN                     True            NaN      NaN       NaN   \n",
       "1           NaN                    False            NaN      NaN       NaN   \n",
       "2           NaN                    False            NaN      NaN       NaN   \n",
       "3           NaN                    False            NaN      NaN       NaN   \n",
       "4           NaN                    False            NaN      NaN       NaN   \n",
       "\n",
       "  VIC_AGE_GROUP VIC_SEX        VIC_RACE    X_COORD_CD     Y_COORD_CD  \\\n",
       "0         25-44       F  BLACK HISPANIC  1.017542e+06  255918.875000   \n",
       "1           65+       M           WHITE  1.027543e+06  186095.000000   \n",
       "2         18-24       F           BLACK  9.953250e+05  185155.000000   \n",
       "3           <18       M           BLACK  1.007453e+06  233952.000000   \n",
       "4         18-24       M           BLACK  1.041267e+06  157133.515625   \n",
       "\n",
       "    Latitude  Longitude                                        Lon_Lat  \n",
       "0  40.869058 -73.879632   POINT (-73.87963173099996 40.86905819000003)  \n",
       "1  40.677367 -73.843920  POINT (-73.84392019199998 40.677366895000034)  \n",
       "2  40.674886 -73.960075  POINT (-73.96007501899999 40.674885741000026)  \n",
       "3  40.808798 -73.916184   POINT (-73.91618413199996 40.80879780500004)  \n",
       "4  40.597796 -73.794686  POINT (-73.79468553799995 40.597796249000055)  "
      ]
     },
     "execution_count": 5,
     "metadata": {},
     "output_type": "execute_result"
    }
   ],
   "source": [
    "print(\"First Five rows before munging:[shape:%s]\"%(str(data.shape)))\n",
    "data.head()"
   ]
  },
  {
   "cell_type": "code",
   "execution_count": 6,
   "metadata": {},
   "outputs": [
    {
     "name": "stdout",
     "output_type": "stream",
     "text": [
      "First Five rows after munging:[shape:(5347, 19)]\n"
     ]
    },
    {
     "data": {
      "text/html": [
       "<div>\n",
       "<style scoped>\n",
       "    .dataframe tbody tr th:only-of-type {\n",
       "        vertical-align: middle;\n",
       "    }\n",
       "\n",
       "    .dataframe tbody tr th {\n",
       "        vertical-align: top;\n",
       "    }\n",
       "\n",
       "    .dataframe thead th {\n",
       "        text-align: right;\n",
       "    }\n",
       "</style>\n",
       "<table border=\"1\" class=\"dataframe\">\n",
       "  <thead>\n",
       "    <tr style=\"text-align: right;\">\n",
       "      <th></th>\n",
       "      <th>INCIDENT_KEY</th>\n",
       "      <th>OCCUR_DATE</th>\n",
       "      <th>OCCUR_TIME</th>\n",
       "      <th>BORO</th>\n",
       "      <th>PRECINCT</th>\n",
       "      <th>JURISDICTION_CODE</th>\n",
       "      <th>LOCATION_DESC</th>\n",
       "      <th>STATISTICAL_MURDER_FLAG</th>\n",
       "      <th>PERP_AGE_GROUP</th>\n",
       "      <th>PERP_SEX</th>\n",
       "      <th>PERP_RACE</th>\n",
       "      <th>VIC_AGE_GROUP</th>\n",
       "      <th>VIC_SEX</th>\n",
       "      <th>VIC_RACE</th>\n",
       "      <th>X_COORD_CD</th>\n",
       "      <th>Y_COORD_CD</th>\n",
       "      <th>Latitude</th>\n",
       "      <th>Longitude</th>\n",
       "      <th>Lon_Lat</th>\n",
       "    </tr>\n",
       "  </thead>\n",
       "  <tbody>\n",
       "    <tr>\n",
       "      <th>25</th>\n",
       "      <td>16814011</td>\n",
       "      <td>06/13/2006</td>\n",
       "      <td>20:56:00</td>\n",
       "      <td>BROOKLYN</td>\n",
       "      <td>70</td>\n",
       "      <td>0.0</td>\n",
       "      <td>MULTI DWELL - APT BUILD</td>\n",
       "      <td>True</td>\n",
       "      <td>25-44</td>\n",
       "      <td>M</td>\n",
       "      <td>BLACK</td>\n",
       "      <td>25-44</td>\n",
       "      <td>M</td>\n",
       "      <td>BLACK</td>\n",
       "      <td>9.957930e+05</td>\n",
       "      <td>173152.000000</td>\n",
       "      <td>40.641940</td>\n",
       "      <td>-73.958408</td>\n",
       "      <td>POINT (-73.95840837999998 40.641939543000035)</td>\n",
       "    </tr>\n",
       "    <tr>\n",
       "      <th>31</th>\n",
       "      <td>144732382</td>\n",
       "      <td>07/23/2015</td>\n",
       "      <td>00:22:00</td>\n",
       "      <td>BROOKLYN</td>\n",
       "      <td>90</td>\n",
       "      <td>2.0</td>\n",
       "      <td>MULTI DWELL - PUBLIC HOUS</td>\n",
       "      <td>False</td>\n",
       "      <td>25-44</td>\n",
       "      <td>M</td>\n",
       "      <td>WHITE HISPANIC</td>\n",
       "      <td>25-44</td>\n",
       "      <td>M</td>\n",
       "      <td>BLACK</td>\n",
       "      <td>1.001020e+06</td>\n",
       "      <td>196399.875000</td>\n",
       "      <td>40.705741</td>\n",
       "      <td>-73.939516</td>\n",
       "      <td>POINT (-73.93951647099993 40.70574137600005)</td>\n",
       "    </tr>\n",
       "    <tr>\n",
       "      <th>32</th>\n",
       "      <td>68964080</td>\n",
       "      <td>12/17/2009</td>\n",
       "      <td>13:45:00</td>\n",
       "      <td>MANHATTAN</td>\n",
       "      <td>20</td>\n",
       "      <td>0.0</td>\n",
       "      <td>MULTI DWELL - APT BUILD</td>\n",
       "      <td>True</td>\n",
       "      <td>25-44</td>\n",
       "      <td>M</td>\n",
       "      <td>WHITE HISPANIC</td>\n",
       "      <td>45-64</td>\n",
       "      <td>F</td>\n",
       "      <td>WHITE HISPANIC</td>\n",
       "      <td>9.908386e+05</td>\n",
       "      <td>225657.703125</td>\n",
       "      <td>40.786060</td>\n",
       "      <td>-73.976209</td>\n",
       "      <td>POINT (-73.97620917299997 40.78606022200006)</td>\n",
       "    </tr>\n",
       "    <tr>\n",
       "      <th>41</th>\n",
       "      <td>85875439</td>\n",
       "      <td>07/22/2012</td>\n",
       "      <td>21:35:00</td>\n",
       "      <td>BRONX</td>\n",
       "      <td>42</td>\n",
       "      <td>2.0</td>\n",
       "      <td>MULTI DWELL - PUBLIC HOUS</td>\n",
       "      <td>False</td>\n",
       "      <td>&lt;18</td>\n",
       "      <td>M</td>\n",
       "      <td>BLACK</td>\n",
       "      <td>25-44</td>\n",
       "      <td>M</td>\n",
       "      <td>BLACK</td>\n",
       "      <td>1.011047e+06</td>\n",
       "      <td>239814.234375</td>\n",
       "      <td>40.824878</td>\n",
       "      <td>-73.903179</td>\n",
       "      <td>POINT (-73.90317908399999 40.82487781900005)</td>\n",
       "    </tr>\n",
       "    <tr>\n",
       "      <th>42</th>\n",
       "      <td>175773152</td>\n",
       "      <td>03/12/2018</td>\n",
       "      <td>03:40:00</td>\n",
       "      <td>QUEENS</td>\n",
       "      <td>102</td>\n",
       "      <td>0.0</td>\n",
       "      <td>PVT HOUSE</td>\n",
       "      <td>False</td>\n",
       "      <td>25-44</td>\n",
       "      <td>M</td>\n",
       "      <td>BLACK</td>\n",
       "      <td>25-44</td>\n",
       "      <td>F</td>\n",
       "      <td>AMERICAN INDIAN/ALASKAN NATIVE</td>\n",
       "      <td>1.031923e+06</td>\n",
       "      <td>190474.531250</td>\n",
       "      <td>40.689365</td>\n",
       "      <td>-73.828099</td>\n",
       "      <td>POINT (-73.82809923699995 40.68936518700008)</td>\n",
       "    </tr>\n",
       "  </tbody>\n",
       "</table>\n",
       "</div>"
      ],
      "text/plain": [
       "    INCIDENT_KEY  OCCUR_DATE OCCUR_TIME       BORO  PRECINCT  \\\n",
       "25      16814011  06/13/2006   20:56:00   BROOKLYN        70   \n",
       "31     144732382  07/23/2015   00:22:00   BROOKLYN        90   \n",
       "32      68964080  12/17/2009   13:45:00  MANHATTAN        20   \n",
       "41      85875439  07/22/2012   21:35:00      BRONX        42   \n",
       "42     175773152  03/12/2018   03:40:00     QUEENS       102   \n",
       "\n",
       "    JURISDICTION_CODE              LOCATION_DESC  STATISTICAL_MURDER_FLAG  \\\n",
       "25                0.0    MULTI DWELL - APT BUILD                     True   \n",
       "31                2.0  MULTI DWELL - PUBLIC HOUS                    False   \n",
       "32                0.0    MULTI DWELL - APT BUILD                     True   \n",
       "41                2.0  MULTI DWELL - PUBLIC HOUS                    False   \n",
       "42                0.0                  PVT HOUSE                    False   \n",
       "\n",
       "   PERP_AGE_GROUP PERP_SEX       PERP_RACE VIC_AGE_GROUP VIC_SEX  \\\n",
       "25          25-44        M           BLACK         25-44       M   \n",
       "31          25-44        M  WHITE HISPANIC         25-44       M   \n",
       "32          25-44        M  WHITE HISPANIC         45-64       F   \n",
       "41            <18        M           BLACK         25-44       M   \n",
       "42          25-44        M           BLACK         25-44       F   \n",
       "\n",
       "                          VIC_RACE    X_COORD_CD     Y_COORD_CD   Latitude  \\\n",
       "25                           BLACK  9.957930e+05  173152.000000  40.641940   \n",
       "31                           BLACK  1.001020e+06  196399.875000  40.705741   \n",
       "32                  WHITE HISPANIC  9.908386e+05  225657.703125  40.786060   \n",
       "41                           BLACK  1.011047e+06  239814.234375  40.824878   \n",
       "42  AMERICAN INDIAN/ALASKAN NATIVE  1.031923e+06  190474.531250  40.689365   \n",
       "\n",
       "    Longitude                                        Lon_Lat  \n",
       "25 -73.958408  POINT (-73.95840837999998 40.641939543000035)  \n",
       "31 -73.939516   POINT (-73.93951647099993 40.70574137600005)  \n",
       "32 -73.976209   POINT (-73.97620917299997 40.78606022200006)  \n",
       "41 -73.903179   POINT (-73.90317908399999 40.82487781900005)  \n",
       "42 -73.828099   POINT (-73.82809923699995 40.68936518700008)  "
      ]
     },
     "execution_count": 6,
     "metadata": {},
     "output_type": "execute_result"
    }
   ],
   "source": [
    "data = data.dropna() # drop all rows with NaN\n",
    "data.drop(data[data.apply(lambda row: 'UNKNOWN' in row.to_string(header=False), axis=1)].index, inplace=True) # drop all rows with 'UNKNOWN'\n",
    "data.drop(data[data.apply(lambda row: 'NONE' in row.to_string(header=False), axis=1)].index, inplace=True) # drop all rows with 'NONE'\n",
    "print(\"First Five rows after munging:[shape:%s]\"%(str(data.shape)))\n",
    "data.head()"
   ]
  },
  {
   "cell_type": "markdown",
   "metadata": {},
   "source": [
    "## Data analysis\n",
    "Place your **data analysis** code and documentation within this section.\n",
    "- Perform at least 5 different statistical or other analyses of different aspects of the data.\n",
    "    - Your analyses must be specific and relevant to your chosen data set and show interesting aspects of it.\n",
    "    - Include at least one analysis that includes grouping rows by a shared attribute and performing some kind of statistical analysis on each group.\n",
    "    - Sort the data in at least 1 of your analyses, but sort on its own does not constitute an analysis on its own.\n",
    "- Keep each of your Code cells short and focused on a single task.\n",
    "- Include a Markdown cell above each Code cell that describes what task the code within the Code cell is performing.\n",
    "- Make as many code cells as you need to complete the analysis - a few have been created for you to start with."
   ]
  },
  {
   "cell_type": "markdown",
   "metadata": {},
   "source": [
    "<p style=\"font-weight:bold\">1) Find the Borough that shooting incidents happened most frequently, and locate the crime center.</p>"
   ]
  },
  {
   "cell_type": "markdown",
   "metadata": {},
   "source": [
    "<p style=\"color:#009\">This analysis is for locating the crime center. The first step is to find the mode of borough's occurences by creating a dictionary associating borough and number of incidents and then manually and interatively find the max, because the more shooting incidents implies area with more crime and active criminals. The next step is to find the crime center by taking averages of the longitude and latitude. This task is helpful in giving a taste of the overall \"mean\" of the location, a centralized behavior. </p>"
   ]
  },
  {
   "cell_type": "code",
   "execution_count": 7,
   "metadata": {},
   "outputs": [
    {
     "name": "stdout",
     "output_type": "stream",
     "text": [
      "BROOKLYN has most frequent shooting incedents.\n",
      "Crime center's coordinate for Global Coordinate System is POINT(-73.934119,40.666096), near precient #81\n"
     ]
    }
   ],
   "source": [
    "# count the incidents and find the max of them; here I used a dict trasfrom as a relay for searching for max key\n",
    "all_cases = dict(data['BORO'].value_counts())\n",
    "most_freq_shooting_boro = max(all_cases, key = all_cases.get)\n",
    "print(\"%s has most frequent shooting incedents.\"%most_freq_shooting_boro)\n",
    "# To find the crime center, we need to get the mean of Longitude and Latitude.\n",
    "brooklyn_data = data[data['BORO']=='BROOKLYN']\n",
    "center_lon = np.mean(brooklyn_data['Longitude'])\n",
    "center_lat = np.mean(brooklyn_data['Latitude'])\n",
    "# To get more detail on the location, attribute the center to the nearest precient, \n",
    "# by the finding the one precient with least sum of squared distance\n",
    "center_loc = None\n",
    "loss = float('inf')\n",
    "for index, loc in brooklyn_data.iterrows():\n",
    "    temp_loss = (loc[17]-center_lon)**2 + (loc[16]-center_lat)**2\n",
    "    if temp_loss < loss:\n",
    "        loss = temp_loss\n",
    "        center_loc = loc\n",
    "print(\"Crime center's coordinate for Global Coordinate System is POINT(%f,%f),\\\n",
    " near precient #%d\"%(center_lon,center_lat,loc[4]))"
   ]
  },
  {
   "cell_type": "markdown",
   "metadata": {},
   "source": [
    "<p style=\"font-weight:bold\">2) For each Borough, find the rate of death of victims, and state the Borough with lowest death rate.</p>"
   ]
  },
  {
   "cell_type": "markdown",
   "metadata": {},
   "source": [
    "<p style=\"color:#009\">This task is inpired by a sense of \"level of violence\" of shooting cases in each borough. As this calculates the rate, the statistics might mean a larger number of cases overall in that borough. The process of calculation starts with creating a dictionary that isolates cases of each borough that caused death, and then  devide each borough's value by the corresponding value in Q1)'s dictionary of total cases.</p>"
   ]
  },
  {
   "cell_type": "code",
   "execution_count": 8,
   "metadata": {},
   "outputs": [
    {
     "name": "stdout",
     "output_type": "stream",
     "text": [
      "Borough with lowest death rate, 27.888446%, is BRONX\n"
     ]
    }
   ],
   "source": [
    "# get the count of murder cases identified by 'STATISTICAL_MURDER_FLAG' == True for each borough\n",
    "murder_cases = dict(data['BORO'][data['STATISTICAL_MURDER_FLAG']==True].value_counts())\n",
    "boro_murder_rate = {}\n",
    "# calculate the murder occurence rate out of all shooting incidents\n",
    "for key in all_cases.keys():\n",
    "    boro_murder_rate[key] = murder_cases[key]/all_cases[key]\n",
    "# find and print the max value in dict and its corresponding key \n",
    "print(\"Borough with lowest death rate, %f%%, is %s\"%(max(boro_murder_rate.values())*100, max(boro_murder_rate, key = boro_murder_rate.get)))"
   ]
  },
  {
   "cell_type": "markdown",
   "metadata": {},
   "source": [
    "<p style=\"font-weight:bold\">3) Regarding Manhattan, find the year with lowest number of shooting incedencts happended.</p>"
   ]
  },
  {
   "cell_type": "markdown",
   "metadata": {},
   "source": [
    "<p style=\"color:#009\">First, isolates all the cases that took place in Manhattan. Secondly, strip the year from the string of 'OCCUR_DATE', then count the cases in each year by grouping them and store in a dictionary in form \"year: #cases\". Finally, find the min in values and print out the correspinding key.</p>"
   ]
  },
  {
   "cell_type": "code",
   "execution_count": 9,
   "metadata": {},
   "outputs": [
    {
     "name": "stdout",
     "output_type": "stream",
     "text": [
      "In Manhattan, year 2018 has lowest number of shooting incedents of 21 cases.\n"
     ]
    }
   ],
   "source": [
    "# First, slice the rows with borough manhattan \n",
    "manhattan_data = data[data['BORO']=='MANHATTAN']\n",
    "manhattan_dict = {}\n",
    "# group and count the incidences of each year by the last 4 characters of \"OCCUR_DATE\"\n",
    "for index, item in manhattan_data.iterrows():\n",
    "    if item[1][-4:] not in manhattan_dict.keys():\n",
    "        manhattan_dict[item[1][-4:]] = 1\n",
    "    else:\n",
    "        manhattan_dict[item[1][-4:]] += 1\n",
    "# find and print the lowest value in dict and its corresponding key \n",
    "print(\"In Manhattan, year %s has lowest number of shooting incedents of %s cases.\"%(min(manhattan_dict, key = manhattan_dict.get), min(manhattan_dict.values())))"
   ]
  },
  {
   "cell_type": "markdown",
   "metadata": {},
   "source": [
    "<p style=\"font-weight:bold\">4) For each age group of perpetrators, find out the ratio of male criminal to that of female, and sort the outcomes high to low.</p>"
   ]
  },
  {
   "cell_type": "markdown",
   "metadata": {},
   "source": [
    "<p style=\"color:#009\">Count the number of male and female criminals within each age group, and then store the age groups as keys and counts as values in two dictionaries. For each age group, calculate the ratio by dividing the two counts. Finally, sort the dictionary to have the outcome ratio high to low.</p>"
   ]
  },
  {
   "cell_type": "code",
   "execution_count": 39,
   "metadata": {},
   "outputs": [
    {
     "name": "stdout",
     "output_type": "stream",
     "text": [
      "The following ratio means xxx:1(male:female), where xxx is the number displayed:\n"
     ]
    },
    {
     "data": {
      "text/plain": [
       "{'18-24': 38.09836065573771,\n",
       " '65+': 35.0,\n",
       " '25-44': 30.07246376811594,\n",
       " '<18': 23.818181818181817,\n",
       " '45-64': 18.083333333333332}"
      ]
     },
     "execution_count": 39,
     "metadata": {},
     "output_type": "execute_result"
    }
   ],
   "source": [
    "male_perpetrators_by_age = dict(data['PERP_AGE_GROUP'][data['PERP_SEX']=='M'].value_counts())\n",
    "female_perpetrators_by_age = dict(data['PERP_AGE_GROUP'][data['PERP_SEX']=='F'].value_counts())\n",
    "mf_ratio_perpetrators_by_age = {}\n",
    "for key in male_perpetrators_by_age.keys():\n",
    "    if key in female_perpetrators_by_age.keys():\n",
    "        mf_ratio_perpetrators_by_age[key] = male_perpetrators_by_age[key]/female_perpetrators_by_age[key]\n",
    "print('The following ratio means xxx:1(male:female), where xxx is the number displayed:')\n",
    "dict(sorted(mf_ratio_perpetrators_by_age.items(), key=lambda item: item[1], reverse = True))\n"
   ]
  },
  {
   "cell_type": "markdown",
   "metadata": {},
   "source": [
    "<p style=\"font-weight:bold\">5) For jurisdiction code 2(Housing), show the first 10 cases by the age group of victims, in the descending order. From that, find the ratio of victims under 18.</p>"
   ]
  },
  {
   "cell_type": "markdown",
   "metadata": {},
   "source": [
    "<p style=\"color:#009\">By selecting the jurisdiction code = 2 from the original data, we get the slice that has housing category; then, by sorting the data in descending order of the victims' age groups, I show the reordered record slice, starting with records with victim's age under 18. By deviding the count of records with victim uder 18 by all records with jurisdiction code 2, we get the percentage.</p>"
   ]
  },
  {
   "cell_type": "code",
   "execution_count": 38,
   "metadata": {},
   "outputs": [
    {
     "name": "stdout",
     "output_type": "stream",
     "text": [
      "Victim under 18 takes 13.109% in the jurisdiction of housing shooting incidents.\n"
     ]
    },
    {
     "data": {
      "text/html": [
       "<div>\n",
       "<style scoped>\n",
       "    .dataframe tbody tr th:only-of-type {\n",
       "        vertical-align: middle;\n",
       "    }\n",
       "\n",
       "    .dataframe tbody tr th {\n",
       "        vertical-align: top;\n",
       "    }\n",
       "\n",
       "    .dataframe thead th {\n",
       "        text-align: right;\n",
       "    }\n",
       "</style>\n",
       "<table border=\"1\" class=\"dataframe\">\n",
       "  <thead>\n",
       "    <tr style=\"text-align: right;\">\n",
       "      <th></th>\n",
       "      <th>INCIDENT_KEY</th>\n",
       "      <th>OCCUR_DATE</th>\n",
       "      <th>OCCUR_TIME</th>\n",
       "      <th>BORO</th>\n",
       "      <th>PRECINCT</th>\n",
       "      <th>JURISDICTION_CODE</th>\n",
       "      <th>LOCATION_DESC</th>\n",
       "      <th>STATISTICAL_MURDER_FLAG</th>\n",
       "      <th>PERP_AGE_GROUP</th>\n",
       "      <th>PERP_SEX</th>\n",
       "      <th>PERP_RACE</th>\n",
       "      <th>VIC_AGE_GROUP</th>\n",
       "      <th>VIC_SEX</th>\n",
       "      <th>VIC_RACE</th>\n",
       "      <th>X_COORD_CD</th>\n",
       "      <th>Y_COORD_CD</th>\n",
       "      <th>Latitude</th>\n",
       "      <th>Longitude</th>\n",
       "      <th>Lon_Lat</th>\n",
       "    </tr>\n",
       "  </thead>\n",
       "  <tbody>\n",
       "    <tr>\n",
       "      <th>11883</th>\n",
       "      <td>76864987</td>\n",
       "      <td>01/16/2011</td>\n",
       "      <td>17:10:00</td>\n",
       "      <td>BROOKLYN</td>\n",
       "      <td>88</td>\n",
       "      <td>2.0</td>\n",
       "      <td>MULTI DWELL - PUBLIC HOUS</td>\n",
       "      <td>False</td>\n",
       "      <td>18-24</td>\n",
       "      <td>M</td>\n",
       "      <td>BLACK</td>\n",
       "      <td>&lt;18</td>\n",
       "      <td>M</td>\n",
       "      <td>BLACK</td>\n",
       "      <td>9.893147e+05</td>\n",
       "      <td>192297.140625</td>\n",
       "      <td>40.694495</td>\n",
       "      <td>-73.981737</td>\n",
       "      <td>POINT (-73.98173739799995 40.69449476800003)</td>\n",
       "    </tr>\n",
       "    <tr>\n",
       "      <th>5615</th>\n",
       "      <td>82361864</td>\n",
       "      <td>12/27/2011</td>\n",
       "      <td>02:16:00</td>\n",
       "      <td>BRONX</td>\n",
       "      <td>40</td>\n",
       "      <td>2.0</td>\n",
       "      <td>MULTI DWELL - PUBLIC HOUS</td>\n",
       "      <td>False</td>\n",
       "      <td>&lt;18</td>\n",
       "      <td>M</td>\n",
       "      <td>BLACK</td>\n",
       "      <td>&lt;18</td>\n",
       "      <td>M</td>\n",
       "      <td>BLACK HISPANIC</td>\n",
       "      <td>1.007217e+06</td>\n",
       "      <td>234876.906250</td>\n",
       "      <td>40.811337</td>\n",
       "      <td>-73.917033</td>\n",
       "      <td>POINT (-73.91703348099998 40.81133703200004)</td>\n",
       "    </tr>\n",
       "    <tr>\n",
       "      <th>16956</th>\n",
       "      <td>163842831</td>\n",
       "      <td>04/16/2017</td>\n",
       "      <td>21:09:00</td>\n",
       "      <td>STATEN ISLAND</td>\n",
       "      <td>120</td>\n",
       "      <td>2.0</td>\n",
       "      <td>MULTI DWELL - PUBLIC HOUS</td>\n",
       "      <td>False</td>\n",
       "      <td>&lt;18</td>\n",
       "      <td>M</td>\n",
       "      <td>BLACK</td>\n",
       "      <td>&lt;18</td>\n",
       "      <td>M</td>\n",
       "      <td>BLACK</td>\n",
       "      <td>9.614926e+05</td>\n",
       "      <td>166568.671875</td>\n",
       "      <td>40.623848</td>\n",
       "      <td>-74.081981</td>\n",
       "      <td>POINT (-74.08198120899993 40.62384798800009)</td>\n",
       "    </tr>\n",
       "    <tr>\n",
       "      <th>16968</th>\n",
       "      <td>72636950</td>\n",
       "      <td>05/10/2010</td>\n",
       "      <td>16:20:00</td>\n",
       "      <td>BROOKLYN</td>\n",
       "      <td>75</td>\n",
       "      <td>2.0</td>\n",
       "      <td>MULTI DWELL - PUBLIC HOUS</td>\n",
       "      <td>False</td>\n",
       "      <td>&lt;18</td>\n",
       "      <td>M</td>\n",
       "      <td>BLACK</td>\n",
       "      <td>&lt;18</td>\n",
       "      <td>M</td>\n",
       "      <td>BLACK</td>\n",
       "      <td>1.019404e+06</td>\n",
       "      <td>182905.140625</td>\n",
       "      <td>40.668648</td>\n",
       "      <td>-73.873278</td>\n",
       "      <td>POINT (-73.87327795299996 40.66864751500003)</td>\n",
       "    </tr>\n",
       "    <tr>\n",
       "      <th>17120</th>\n",
       "      <td>67895117</td>\n",
       "      <td>11/16/2009</td>\n",
       "      <td>15:45:00</td>\n",
       "      <td>BRONX</td>\n",
       "      <td>42</td>\n",
       "      <td>2.0</td>\n",
       "      <td>MULTI DWELL - PUBLIC HOUS</td>\n",
       "      <td>False</td>\n",
       "      <td>&lt;18</td>\n",
       "      <td>M</td>\n",
       "      <td>BLACK</td>\n",
       "      <td>&lt;18</td>\n",
       "      <td>F</td>\n",
       "      <td>WHITE HISPANIC</td>\n",
       "      <td>1.012422e+06</td>\n",
       "      <td>240916.000000</td>\n",
       "      <td>40.827898</td>\n",
       "      <td>-73.898205</td>\n",
       "      <td>POINT (-73.89820515299994 40.82789757000006)</td>\n",
       "    </tr>\n",
       "    <tr>\n",
       "      <th>...</th>\n",
       "      <td>...</td>\n",
       "      <td>...</td>\n",
       "      <td>...</td>\n",
       "      <td>...</td>\n",
       "      <td>...</td>\n",
       "      <td>...</td>\n",
       "      <td>...</td>\n",
       "      <td>...</td>\n",
       "      <td>...</td>\n",
       "      <td>...</td>\n",
       "      <td>...</td>\n",
       "      <td>...</td>\n",
       "      <td>...</td>\n",
       "      <td>...</td>\n",
       "      <td>...</td>\n",
       "      <td>...</td>\n",
       "      <td>...</td>\n",
       "      <td>...</td>\n",
       "      <td>...</td>\n",
       "    </tr>\n",
       "    <tr>\n",
       "      <th>15404</th>\n",
       "      <td>51893517</td>\n",
       "      <td>10/04/2008</td>\n",
       "      <td>03:10:00</td>\n",
       "      <td>QUEENS</td>\n",
       "      <td>114</td>\n",
       "      <td>2.0</td>\n",
       "      <td>MULTI DWELL - PUBLIC HOUS</td>\n",
       "      <td>False</td>\n",
       "      <td>25-44</td>\n",
       "      <td>M</td>\n",
       "      <td>BLACK</td>\n",
       "      <td>18-24</td>\n",
       "      <td>M</td>\n",
       "      <td>BLACK</td>\n",
       "      <td>9.995847e+05</td>\n",
       "      <td>214040.703125</td>\n",
       "      <td>40.754164</td>\n",
       "      <td>-73.944653</td>\n",
       "      <td>POINT (-73.94465265199995 40.754163736000066)</td>\n",
       "    </tr>\n",
       "    <tr>\n",
       "      <th>15433</th>\n",
       "      <td>47945810</td>\n",
       "      <td>07/02/2008</td>\n",
       "      <td>01:15:00</td>\n",
       "      <td>BROOKLYN</td>\n",
       "      <td>84</td>\n",
       "      <td>2.0</td>\n",
       "      <td>MULTI DWELL - PUBLIC HOUS</td>\n",
       "      <td>False</td>\n",
       "      <td>18-24</td>\n",
       "      <td>M</td>\n",
       "      <td>BLACK</td>\n",
       "      <td>18-24</td>\n",
       "      <td>M</td>\n",
       "      <td>BLACK HISPANIC</td>\n",
       "      <td>9.890081e+05</td>\n",
       "      <td>192549.609375</td>\n",
       "      <td>40.695188</td>\n",
       "      <td>-73.982843</td>\n",
       "      <td>POINT (-73.98284295599996 40.69518790600006)</td>\n",
       "    </tr>\n",
       "    <tr>\n",
       "      <th>6508</th>\n",
       "      <td>90702196</td>\n",
       "      <td>05/19/2013</td>\n",
       "      <td>03:12:00</td>\n",
       "      <td>BROOKLYN</td>\n",
       "      <td>79</td>\n",
       "      <td>2.0</td>\n",
       "      <td>MULTI DWELL - PUBLIC HOUS</td>\n",
       "      <td>False</td>\n",
       "      <td>18-24</td>\n",
       "      <td>M</td>\n",
       "      <td>BLACK</td>\n",
       "      <td>18-24</td>\n",
       "      <td>M</td>\n",
       "      <td>BLACK</td>\n",
       "      <td>9.998494e+05</td>\n",
       "      <td>193275.859375</td>\n",
       "      <td>40.697169</td>\n",
       "      <td>-73.943745</td>\n",
       "      <td>POINT (-73.94374542299994 40.69716882500006)</td>\n",
       "    </tr>\n",
       "    <tr>\n",
       "      <th>6489</th>\n",
       "      <td>85854720</td>\n",
       "      <td>07/21/2012</td>\n",
       "      <td>17:55:00</td>\n",
       "      <td>BROOKLYN</td>\n",
       "      <td>75</td>\n",
       "      <td>2.0</td>\n",
       "      <td>MULTI DWELL - PUBLIC HOUS</td>\n",
       "      <td>True</td>\n",
       "      <td>25-44</td>\n",
       "      <td>M</td>\n",
       "      <td>BLACK</td>\n",
       "      <td>18-24</td>\n",
       "      <td>M</td>\n",
       "      <td>BLACK</td>\n",
       "      <td>1.015829e+06</td>\n",
       "      <td>179159.546875</td>\n",
       "      <td>40.658380</td>\n",
       "      <td>-73.886185</td>\n",
       "      <td>POINT (-73.88618497099998 40.65838017200008)</td>\n",
       "    </tr>\n",
       "    <tr>\n",
       "      <th>23525</th>\n",
       "      <td>71421996</td>\n",
       "      <td>02/21/2010</td>\n",
       "      <td>04:53:00</td>\n",
       "      <td>MANHATTAN</td>\n",
       "      <td>7</td>\n",
       "      <td>2.0</td>\n",
       "      <td>MULTI DWELL - PUBLIC HOUS</td>\n",
       "      <td>True</td>\n",
       "      <td>18-24</td>\n",
       "      <td>M</td>\n",
       "      <td>WHITE HISPANIC</td>\n",
       "      <td>18-24</td>\n",
       "      <td>M</td>\n",
       "      <td>BLACK</td>\n",
       "      <td>9.870631e+05</td>\n",
       "      <td>198657.281250</td>\n",
       "      <td>40.711953</td>\n",
       "      <td>-73.989854</td>\n",
       "      <td>POINT (-73.98985422499999 40.71195286500006)</td>\n",
       "    </tr>\n",
       "  </tbody>\n",
       "</table>\n",
       "<p>1930 rows × 19 columns</p>\n",
       "</div>"
      ],
      "text/plain": [
       "       INCIDENT_KEY  OCCUR_DATE OCCUR_TIME           BORO  PRECINCT  \\\n",
       "11883      76864987  01/16/2011   17:10:00       BROOKLYN        88   \n",
       "5615       82361864  12/27/2011   02:16:00          BRONX        40   \n",
       "16956     163842831  04/16/2017   21:09:00  STATEN ISLAND       120   \n",
       "16968      72636950  05/10/2010   16:20:00       BROOKLYN        75   \n",
       "17120      67895117  11/16/2009   15:45:00          BRONX        42   \n",
       "...             ...         ...        ...            ...       ...   \n",
       "15404      51893517  10/04/2008   03:10:00         QUEENS       114   \n",
       "15433      47945810  07/02/2008   01:15:00       BROOKLYN        84   \n",
       "6508       90702196  05/19/2013   03:12:00       BROOKLYN        79   \n",
       "6489       85854720  07/21/2012   17:55:00       BROOKLYN        75   \n",
       "23525      71421996  02/21/2010   04:53:00      MANHATTAN         7   \n",
       "\n",
       "       JURISDICTION_CODE              LOCATION_DESC  STATISTICAL_MURDER_FLAG  \\\n",
       "11883                2.0  MULTI DWELL - PUBLIC HOUS                    False   \n",
       "5615                 2.0  MULTI DWELL - PUBLIC HOUS                    False   \n",
       "16956                2.0  MULTI DWELL - PUBLIC HOUS                    False   \n",
       "16968                2.0  MULTI DWELL - PUBLIC HOUS                    False   \n",
       "17120                2.0  MULTI DWELL - PUBLIC HOUS                    False   \n",
       "...                  ...                        ...                      ...   \n",
       "15404                2.0  MULTI DWELL - PUBLIC HOUS                    False   \n",
       "15433                2.0  MULTI DWELL - PUBLIC HOUS                    False   \n",
       "6508                 2.0  MULTI DWELL - PUBLIC HOUS                    False   \n",
       "6489                 2.0  MULTI DWELL - PUBLIC HOUS                     True   \n",
       "23525                2.0  MULTI DWELL - PUBLIC HOUS                     True   \n",
       "\n",
       "      PERP_AGE_GROUP PERP_SEX       PERP_RACE VIC_AGE_GROUP VIC_SEX  \\\n",
       "11883          18-24        M           BLACK           <18       M   \n",
       "5615             <18        M           BLACK           <18       M   \n",
       "16956            <18        M           BLACK           <18       M   \n",
       "16968            <18        M           BLACK           <18       M   \n",
       "17120            <18        M           BLACK           <18       F   \n",
       "...              ...      ...             ...           ...     ...   \n",
       "15404          25-44        M           BLACK         18-24       M   \n",
       "15433          18-24        M           BLACK         18-24       M   \n",
       "6508           18-24        M           BLACK         18-24       M   \n",
       "6489           25-44        M           BLACK         18-24       M   \n",
       "23525          18-24        M  WHITE HISPANIC         18-24       M   \n",
       "\n",
       "             VIC_RACE    X_COORD_CD     Y_COORD_CD   Latitude  Longitude  \\\n",
       "11883           BLACK  9.893147e+05  192297.140625  40.694495 -73.981737   \n",
       "5615   BLACK HISPANIC  1.007217e+06  234876.906250  40.811337 -73.917033   \n",
       "16956           BLACK  9.614926e+05  166568.671875  40.623848 -74.081981   \n",
       "16968           BLACK  1.019404e+06  182905.140625  40.668648 -73.873278   \n",
       "17120  WHITE HISPANIC  1.012422e+06  240916.000000  40.827898 -73.898205   \n",
       "...               ...           ...            ...        ...        ...   \n",
       "15404           BLACK  9.995847e+05  214040.703125  40.754164 -73.944653   \n",
       "15433  BLACK HISPANIC  9.890081e+05  192549.609375  40.695188 -73.982843   \n",
       "6508            BLACK  9.998494e+05  193275.859375  40.697169 -73.943745   \n",
       "6489            BLACK  1.015829e+06  179159.546875  40.658380 -73.886185   \n",
       "23525           BLACK  9.870631e+05  198657.281250  40.711953 -73.989854   \n",
       "\n",
       "                                             Lon_Lat  \n",
       "11883   POINT (-73.98173739799995 40.69449476800003)  \n",
       "5615    POINT (-73.91703348099998 40.81133703200004)  \n",
       "16956   POINT (-74.08198120899993 40.62384798800009)  \n",
       "16968   POINT (-73.87327795299996 40.66864751500003)  \n",
       "17120   POINT (-73.89820515299994 40.82789757000006)  \n",
       "...                                              ...  \n",
       "15404  POINT (-73.94465265199995 40.754163736000066)  \n",
       "15433   POINT (-73.98284295599996 40.69518790600006)  \n",
       "6508    POINT (-73.94374542299994 40.69716882500006)  \n",
       "6489    POINT (-73.88618497099998 40.65838017200008)  \n",
       "23525   POINT (-73.98985422499999 40.71195286500006)  \n",
       "\n",
       "[1930 rows x 19 columns]"
      ]
     },
     "execution_count": 38,
     "metadata": {},
     "output_type": "execute_result"
    }
   ],
   "source": [
    "data_jcode2 = data[data['JURISDICTION_CODE']==2].sort_values(by='VIC_AGE_GROUP', ascending = False)\n",
    "print(\"Victim under 18 takes %s%% in the jurisdiction of housing shooting incidents.\"%round(len(data_jcode2[data_jcode2['VIC_AGE_GROUP']=='<18'])/len(data_jcode2)*100,3))\n",
    "data_jcode2"
   ]
  },
  {
   "cell_type": "markdown",
   "metadata": {},
   "source": [
    "## Data visualization\n",
    "In this section, you will create a few **visualizations** that show some of the insights you have gathered from this data.\n",
    "- Create at least 5 different visualizations, where each visualization shows different insights into the data.\n",
    "- Use at least 3 different visualization types (e.g. bar charts, line charts, stacked area charts, pie charts, etc)\n",
    "- Create a Markdown cell and a Code cell for each, where you explain and show the visualizations, respectively.\n",
    "- Create as many additional cells as you need to prepare the data for the visualizations."
   ]
  },
  {
   "cell_type": "markdown",
   "metadata": {},
   "source": [
    "<p style=\"font-weight:bold\">1) Create a line graph to show the trend of number of shooting incidents in each borough over the years, for the goal of visual comparison.</p>"
   ]
  },
  {
   "cell_type": "markdown",
   "metadata": {},
   "source": [
    "<p style=\"color:#009\">This visualization shows and compares the trend of occurences of shooting in differnt boroughs over recorded years. To do this, first we need to get the list of recorded boroughs, and for each of them, create a dictionary for holding counts of incidents every year. Merge the dictionary and convert it to a pandas DataFrame, and use that for plotting line graphs of different boroughs in the same figure.</p>"
   ]
  },
  {
   "cell_type": "code",
   "execution_count": 123,
   "metadata": {},
   "outputs": [],
   "source": [
    "boro_list = list(data.BORO.unique())\n",
    "all_boro_dict = {}\n",
    "for boro in boro_list:\n",
    "    temp_data = data[data['BORO'] == boro]\n",
    "    temp_dict = {}\n",
    "    # group and count the incidences of each year by the last 4 characters of \"OCCUR_DATE\"\n",
    "    for index, item in temp_data.iterrows():\n",
    "        if item[1][-4:] not in temp_dict.keys():\n",
    "            temp_dict[item[1][-4:]] = 1\n",
    "        else:\n",
    "            temp_dict[item[1][-4:]] += 1\n",
    "    temp_dict = {key: str(value) for key, value in temp_dict.items()}\n",
    "    if len(all_boro_dict) == 0:\n",
    "        temp_dict = {key: [value] for key, value in temp_dict.items()}\n",
    "        all_boro_dict = temp_dict\n",
    "    else:\n",
    "        for key, value in all_boro_dict.items():\n",
    "            all_boro_dict[key].append(temp_dict[key])\n",
    "# dictionary to df\n",
    "all_boro_dict = {int(k):[int(s) for s in v] for k,v in all_boro_dict.items()}\n",
    "df_1 = pd.DataFrame.from_dict(all_boro_dict,orient='index').sort_index()\n",
    "df_1.rename(columns={0:boro_list[0],1:boro_list[1],2:boro_list[2],3:boro_list[3],4:boro_list[4]},inplace=True)"
   ]
  },
  {
   "cell_type": "code",
   "execution_count": 126,
   "metadata": {},
   "outputs": [
    {
     "data": {
      "text/plain": [
       "Text(0, 0.5, 'incidents')"
      ]
     },
     "execution_count": 126,
     "metadata": {},
     "output_type": "execute_result"
    },
    {
     "data": {
      "image/png": "[encoded data removed]",
      "text/plain": [
       "<Figure size 432x288 with 1 Axes>"
      ]
     },
     "metadata": {
      "needs_background": "light"
     },
     "output_type": "display_data"
    }
   ],
   "source": [
    "df_1.plot()\n",
    "plt.xlabel(\"year\")\n",
    "plt.ylabel(\"incidents\")"
   ]
  },
  {
   "cell_type": "markdown",
   "metadata": {},
   "source": [
    "<p style=\"font-weight:bold\">2) Then, use the stacked area charts to show the number of shooting incidents of each borough with the total cases each year.</p>"
   ]
  },
  {
   "cell_type": "markdown",
   "metadata": {},
   "source": [
    "<p style=\"color:#009\">Using the DataFrame we created in last part, we draw a stacked area charts to give a visual of the change of total number of incidents each year, as well as the portion of incidents that each borough takes part of. This chart is useful as it shows the trend, sum and segment weight at the same time.</p>"
   ]
  },
  {
   "cell_type": "code",
   "execution_count": 127,
   "metadata": {},
   "outputs": [
    {
     "data": {
      "text/plain": [
       "Text(0, 0.5, 'incidents')"
      ]
     },
     "execution_count": 127,
     "metadata": {},
     "output_type": "execute_result"
    },
    {
     "data": {
      "image/png": "[encoded data removed]",
      "text/plain": [
       "<Figure size 432x288 with 1 Axes>"
      ]
     },
     "metadata": {
      "needs_background": "light"
     },
     "output_type": "display_data"
    }
   ],
   "source": [
    "df_1.plot.area()\n",
    "plt.xlabel(\"year\")\n",
    "plt.ylabel(\"incidents\")"
   ]
  },
  {
   "cell_type": "markdown",
   "metadata": {},
   "source": [
    "<p style=\"font-weight:bold\">3) Using a pie chart, show the portion of each race of victims out of all crimes.</p>"
   ]
  },
  {
   "cell_type": "markdown",
   "metadata": {},
   "source": [
    "<p style=\"color:#009\">This visualization provides the sense of proportions, that how many out of all victims are of which races. To do this, first create a dictionary that holds counts of victims of each race. Then, turn the dictionary into a DataFrame so that we can draw a pie chart.</p>"
   ]
  },
  {
   "cell_type": "code",
   "execution_count": 184,
   "metadata": {},
   "outputs": [
    {
     "data": {
      "text/plain": [
       "Text(0, 0.5, '')"
      ]
     },
     "execution_count": 184,
     "metadata": {},
     "output_type": "execute_result"
    },
    {
     "data": {
      "image/png": "[encoded data removed]",
      "text/plain": [
       "<Figure size 432x288 with 1 Axes>"
      ]
     },
     "metadata": {},
     "output_type": "display_data"
    }
   ],
   "source": [
    "df_2 = pd.DataFrame.from_dict(dict(data['VIC_RACE'].value_counts()), orient='index')\n",
    "df_2.sample(frac=1).plot.pie(subplots=True)\n",
    "plt.legend(bbox_to_anchor=(0, 1), loc='best', ncol=1)\n",
    "plt.ylabel('')"
   ]
  },
  {
   "cell_type": "markdown",
   "metadata": {},
   "source": [
    "<p style=\"font-weight:bold\">4) Use the bar charts to compare the male-female ratio in each age group of perpetrators.</p>"
   ]
  },
  {
   "cell_type": "markdown",
   "metadata": {},
   "source": [
    "<p style=\"color:#009\">Continued from part data analysis Q4, this visualization compares the counts of each year group's perpetrators as well as comparing the proportions of female and male within each age group. The reason of no choosing a line graph is that this is not a trend, rather, this is a display of categorical values which are parallel regardless of time.</p>"
   ]
  },
  {
   "cell_type": "code",
   "execution_count": 203,
   "metadata": {},
   "outputs": [
    {
     "data": {
      "text/plain": [
       "<matplotlib.axes._subplots.AxesSubplot at 0x13588dd30>"
      ]
     },
     "execution_count": 203,
     "metadata": {},
     "output_type": "execute_result"
    },
    {
     "data": {
      "image/png": "[encoded data removed]",
      "text/plain": [
       "<Figure size 432x288 with 1 Axes>"
      ]
     },
     "metadata": {
      "needs_background": "light"
     },
     "output_type": "display_data"
    }
   ],
   "source": [
    "dict_3 = {key: [value] for key, value in female_perpetrators_by_age.items()}\n",
    "for key, value in dict_3.items():\n",
    "        dict_3[key].insert(0,male_perpetrators_by_age[key])\n",
    "dict_3 = {k:[int(s) for s in v] for k,v in dict_3.items()}\n",
    "df_3 = pd.DataFrame.from_dict(dict_3,orient='index').reindex(['<18','18-24','25-44','45-64','65+']).rename(columns={0:'male',1:'female'})\n",
    "df_3.plot.bar(stacked = True)"
   ]
  },
  {
   "cell_type": "markdown",
   "metadata": {},
   "source": [
    "<p style=\"font-weight:bold\">5) Use a scatter plot to map the location of crimes, and mark the crime center.</p>"
   ]
  },
  {
   "cell_type": "markdown",
   "metadata": {},
   "source": [
    "<p style=\"color:#009\">The scatter plot shows the distribution of cases. Where the points are dense indicates high crimial activities, and where those are loose implies lower activities. From part data analysis 1), we got the crime center by our definition of mode-mean; we plot it together in the graph below.</p>"
   ]
  },
  {
   "cell_type": "code",
   "execution_count": 207,
   "metadata": {},
   "outputs": [
    {
     "data": {
      "text/plain": [
       "<matplotlib.collections.PathCollection at 0x1352ca9b0>"
      ]
     },
     "execution_count": 207,
     "metadata": {},
     "output_type": "execute_result"
    },
    {
     "data": {
      "text/plain": [
       "<Figure size 432x288 with 0 Axes>"
      ]
     },
     "metadata": {},
     "output_type": "display_data"
    },
    {
     "data": {
      "image/png": "[encoded data removed]",
      "text/plain": [
       "<Figure size 432x288 with 1 Axes>"
      ]
     },
     "metadata": {
      "needs_background": "light"
     },
     "output_type": "display_data"
    }
   ],
   "source": [
    "df_4 = data[['Longitude','Latitude']]\n",
    "plt.figure()\n",
    "df_4.plot.scatter(x='Longitude',y='Latitude',s=3,c=\"#F4FA58\",colormap='viridis')\n",
    "# recall the crime center we found in data analysis 1):\n",
    "plt.scatter(center_loc.Longitude, center_loc.Latitude, c=\"red\")"
   ]
  }
 ],
 "metadata": {
  "kernelspec": {
   "display_name": "Python 3",
   "language": "python",
   "name": "python3"
  },
  "language_info": {
   "codemirror_mode": {
    "name": "ipython",
    "version": 3
   },
   "file_extension": ".py",
   "mimetype": "text/x-python",
   "name": "python",
   "nbconvert_exporter": "python",
   "pygments_lexer": "ipython3",
   "version": "3.9.6"
  }
 },
 "nbformat": 4,
 "nbformat_minor": 4
}
